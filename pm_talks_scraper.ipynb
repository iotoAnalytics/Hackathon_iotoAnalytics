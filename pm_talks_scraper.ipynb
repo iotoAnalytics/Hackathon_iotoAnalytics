{
 "metadata": {
  "language_info": {
   "codemirror_mode": {
    "name": "ipython",
    "version": 3
   },
   "file_extension": ".py",
   "mimetype": "text/x-python",
   "name": "python",
   "nbconvert_exporter": "python",
   "pygments_lexer": "ipython3",
   "version": "3.9.1"
  },
  "orig_nbformat": 4,
  "kernelspec": {
   "name": "python3",
   "display_name": "Python 3.9.1 64-bit ('.venv': venv)"
  },
  "interpreter": {
   "hash": "d6c2736903861d70319bab9095a1b189c27204a597da25e87958f86fee23a758"
  }
 },
 "nbformat": 4,
 "nbformat_minor": 2,
 "cells": [
  {
   "cell_type": "code",
   "execution_count": 20,
   "metadata": {},
   "outputs": [],
   "source": [
    "import requests\n",
    "from bs4 import BeautifulSoup\n",
    "import re\n",
    "from tqdm import tqdm\n",
    "import pandas as pd\n",
    "from database import Persistence\n",
    "\n",
    "base_link = 'https://pm.gc.ca/en/videos?page=0'\n",
    "root = 'https://pm.gc.ca'"
   ]
  },
  {
   "cell_type": "code",
   "execution_count": 2,
   "metadata": {},
   "outputs": [],
   "source": [
    "base_html = BeautifulSoup(requests.get(base_link).content, 'lxml')\n",
    "last_link = base_html.find('li', {'class':'pager__item pager__item--last'}).find('a').get('href')\n",
    "last_page_num = re.search(r'[0-9]+', last_link).group()"
   ]
  },
  {
   "cell_type": "code",
   "execution_count": 3,
   "metadata": {},
   "outputs": [],
   "source": [
    "video_links = []\n",
    "for i in range(0, int(last_page_num) + 1):\n",
    "    num = str(i)\n",
    "    data = requests.get(f'https://pm.gc.ca/en/videos/get_vids?page={num}').json()['vids']\n",
    "    for video in data:\n",
    "        video_links.append(root + video['url'])"
   ]
  },
  {
   "cell_type": "code",
   "execution_count": 4,
   "metadata": {},
   "outputs": [],
   "source": [
    "def filter_text(text):\n",
    "    return text.replace('\\xa0', '').replace('\\n', '')\n",
    "\n",
    "\n",
    "def get_text(link):\n",
    "    soup = BeautifulSoup(requests.get(link).content, 'lxml')\n",
    "    title = soup.find('div', {'class':'title-header-inner'}).text\n",
    "    soup_text = soup.find('div', {'class':'content'}).find_all('div')\n",
    "    if len(soup_text)==2:\n",
    "        soup_text = filter_text(soup_text[1].text)\n",
    "    else:\n",
    "        soup_text = ''\n",
    "    return {\n",
    "        'title': filter_text(title),\n",
    "        'text':soup_text\n",
    "    }  \n"
   ]
  },
  {
   "cell_type": "code",
   "execution_count": 10,
   "metadata": {},
   "outputs": [
    {
     "output_type": "stream",
     "name": "stderr",
     "text": [
      "100%|██████████| 638/638 [09:29<00:00,  1.12it/s]\n"
     ]
    }
   ],
   "source": [
    "data = [get_text(x) for x in tqdm(video_links)]"
   ]
  },
  {
   "cell_type": "code",
   "execution_count": 17,
   "metadata": {},
   "outputs": [],
   "source": [
    "data = pd.DataFrame(data).rename(columns={'text':'video_text'}).to_dict('records')"
   ]
  },
  {
   "cell_type": "code",
   "execution_count": 22,
   "metadata": {},
   "outputs": [
    {
     "output_type": "stream",
     "name": "stdout",
     "text": [
      "done!\n"
     ]
    }
   ],
   "source": [
    "Persistence.write_pm_vid_data(data, 'pm_video_text_sam')\n",
    "print('done!')"
   ]
  }
 ]
}