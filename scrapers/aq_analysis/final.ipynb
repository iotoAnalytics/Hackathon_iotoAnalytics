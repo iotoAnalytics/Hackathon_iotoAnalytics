{
 "cells": [
  {
   "cell_type": "code",
   "execution_count": 22,
   "metadata": {},
   "outputs": [],
   "source": [
    "import pandas as pd\n",
    "from bs4 import BeautifulSoup\n",
    "from contextlib import contextmanager \n",
    "from io import BytesIO \n",
    "from tempfile import NamedTemporaryFile \n",
    "from transformers import PretrainedConfig, PreTrainedModel \n",
    "from transformers import set_seed\n",
    "from transformers import AdamW, BertForSequenceClassification, BertTokenizer, AutoTokenizer\n",
    "from transformers import TextClassificationPipeline\n",
    "from tqdm import tqdm\n",
    "import json\n",
    "import torch\n",
    "import boto3\n",
    "from psycopg2.extras import RealDictCursor\n",
    "import psycopg2\n",
    "import boto3\n",
    "from psycopg2 import sql\n",
    "from datetime import datetime\n",
    "import json\n",
    "import utils\n",
    "import pandas as pd\n",
    "import pathlib\n",
    "import csv\n",
    "import requests\n",
    "import matplotlib.pyplot as plt\n",
    "import os\n",
    "from IPython.display import HTML"
   ]
  },
  {
   "cell_type": "code",
   "execution_count": 23,
   "metadata": {},
   "outputs": [],
   "source": [
    "%%capture\n",
    "all35 = []\n",
    "all15 = []\n",
    "aqnum = []\n",
    "\n",
    "for i in range(0,9):\n",
    "    city_input = i\n",
    "    print(i)\n",
    "    %run ./analysis.ipynb\n",
    "    all35.append(percent35)\n",
    "    all15.append(percent15)\n",
    "    aqnum.append(len(df_aq))\n"
   ]
  },
  {
   "cell_type": "code",
   "execution_count": 26,
   "metadata": {},
   "outputs": [
    {
     "name": "stdout",
     "output_type": "stream",
     "text": [
      "[2.35, 1.2, 4.17, 2.59, 4.53, 8.53, 5.12, 0.69, 2.19]\n",
      "[51.71, 14.81, 39.13, 35.9, 39.91, 43.83, 60.65, 20.49, 18.97]\n",
      "[4, 1, 12, 56, 74, 17, 18, 15, 8]\n"
     ]
    },
    {
     "data": {
      "text/plain": [
       "<matplotlib.collections.PathCollection at 0x7fb58b0fa1f0>"
      ]
     },
     "execution_count": 26,
     "metadata": {},
     "output_type": "execute_result"
    },
    {
     "data": {
      "image/png": "[encoded data removed]",
      "text/plain": [
       "<Figure size 720x360 with 1 Axes>"
      ]
     },
     "metadata": {
      "needs_background": "light"
     },
     "output_type": "display_data"
    }
   ],
   "source": [
    "print(all35)\n",
    "print(all15)\n",
    "print(aqnum)\n",
    "plt.scatter(all35,aqnum)\n",
    "plt.scatter(all15,aqnum)"
   ]
  }
 ],
 "metadata": {
  "interpreter": {
   "hash": "b1b31ddff88e53d5b2ff74184bcf2728c826028dac4bbde601a94224aadce21b"
  },
  "kernelspec": {
   "display_name": "Python 3.8.10 ('venv': venv)",
   "language": "python",
   "name": "python3"
  },
  "language_info": {
   "codemirror_mode": {
    "name": "ipython",
    "version": 3
   },
   "file_extension": ".py",
   "mimetype": "text/x-python",
   "name": "python",
   "nbconvert_exporter": "python",
   "pygments_lexer": "ipython3",
   "version": "3.8.10"
  },
  "orig_nbformat": 4
 },
 "nbformat": 4,
 "nbformat_minor": 2
}
