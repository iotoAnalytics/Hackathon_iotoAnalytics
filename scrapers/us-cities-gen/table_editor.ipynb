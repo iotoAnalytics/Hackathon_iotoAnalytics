{
 "cells": [
  {
   "cell_type": "code",
   "execution_count": 1,
   "metadata": {},
   "outputs": [
    {
     "ename": "ModuleNotFoundError",
     "evalue": "No module named 'openaq'",
     "output_type": "error",
     "traceback": [
      "\u001b[0;31m---------------------------------------------------------------------------\u001b[0m",
      "\u001b[0;31mModuleNotFoundError\u001b[0m                       Traceback (most recent call last)",
      "\u001b[1;32m/Users/amritmangat/Documents/Work-IOTO/VS/goverlytics-scrapers/scrapers/us/us-cities-gen/table_editor.ipynb Cell 1'\u001b[0m in \u001b[0;36m<cell line: 23>\u001b[0;34m()\u001b[0m\n\u001b[1;32m     <a href='vscode-notebook-cell:/Users/amritmangat/Documents/Work-IOTO/VS/goverlytics-scrapers/scrapers/us/us-cities-gen/table_editor.ipynb#ch0000000?line=20'>21</a>\u001b[0m \u001b[39mimport\u001b[39;00m \u001b[39mpandas\u001b[39;00m \u001b[39mas\u001b[39;00m \u001b[39mpd\u001b[39;00m\n\u001b[1;32m     <a href='vscode-notebook-cell:/Users/amritmangat/Documents/Work-IOTO/VS/goverlytics-scrapers/scrapers/us/us-cities-gen/table_editor.ipynb#ch0000000?line=21'>22</a>\u001b[0m \u001b[39mimport\u001b[39;00m \u001b[39mpathlib\u001b[39;00m\n\u001b[0;32m---> <a href='vscode-notebook-cell:/Users/amritmangat/Documents/Work-IOTO/VS/goverlytics-scrapers/scrapers/us/us-cities-gen/table_editor.ipynb#ch0000000?line=22'>23</a>\u001b[0m \u001b[39mimport\u001b[39;00m \u001b[39mopenaq\u001b[39;00m\n\u001b[1;32m     <a href='vscode-notebook-cell:/Users/amritmangat/Documents/Work-IOTO/VS/goverlytics-scrapers/scrapers/us/us-cities-gen/table_editor.ipynb#ch0000000?line=23'>24</a>\u001b[0m \u001b[39mimport\u001b[39;00m \u001b[39mseaborn\u001b[39;00m \u001b[39mas\u001b[39;00m \u001b[39msns\u001b[39;00m\n\u001b[1;32m     <a href='vscode-notebook-cell:/Users/amritmangat/Documents/Work-IOTO/VS/goverlytics-scrapers/scrapers/us/us-cities-gen/table_editor.ipynb#ch0000000?line=24'>25</a>\u001b[0m api \u001b[39m=\u001b[39m openaq\u001b[39m.\u001b[39mOpenAQ()\n",
      "\u001b[0;31mModuleNotFoundError\u001b[0m: No module named 'openaq'"
     ]
    }
   ],
   "source": [
    "import pandas as pd\n",
    "from bs4 import BeautifulSoup\n",
    "from contextlib import contextmanager \n",
    "from io import BytesIO \n",
    "from tempfile import NamedTemporaryFile \n",
    "from transformers import PretrainedConfig, PreTrainedModel \n",
    "from transformers import set_seed\n",
    "from transformers import AdamW, BertForSequenceClassification, BertTokenizer, AutoTokenizer\n",
    "from transformers import TextClassificationPipeline\n",
    "from tqdm import tqdm\n",
    "import json\n",
    "import torch\n",
    "import boto3\n",
    "from psycopg2.extras import RealDictCursor\n",
    "import psycopg2\n",
    "import boto3\n",
    "from psycopg2 import sql\n",
    "from datetime import datetime\n",
    "import json\n",
    "import utils\n",
    "import pandas as pd\n",
    "import pathlib\n",
    "\n",
    "curr = ['43-2', '43-1']"
   ]
  },
  {
   "cell_type": "markdown",
   "metadata": {},
   "source": [
    "Load data from XML files"
   ]
  },
  {
   "cell_type": "code",
   "execution_count": 2,
   "metadata": {},
   "outputs": [],
   "source": [
    "db_host = 'openparl.cia2zobysfwo.us-west-2.rds.amazonaws.com'\n",
    "db_port = 5432\n",
    "db_user = 'rds'\n",
    "db_region = 'us-west-2'\n",
    "db_name = 'openparl'\n",
    "\n",
    "client = boto3.client('rds', db_region)\n",
    "\n",
    "db_token = client.generate_db_auth_token(db_host, db_port, db_user, Region=db_region)\n",
    "\n",
    "connection = psycopg2.connect(database=db_name, host=db_host, user=db_user, password=db_token)\n",
    "\n",
    "cursor = connection.cursor(cursor_factory=RealDictCursor)"
   ]
  },
  {
   "cell_type": "markdown",
   "metadata": {},
   "source": [
    "Load Machine Learning Model "
   ]
  },
  {
   "cell_type": "code",
   "execution_count": 3,
   "metadata": {},
   "outputs": [
    {
     "name": "stdout",
     "output_type": "stream",
     "text": [
      "Done Writing\n",
      "Done loading Data Dict\n",
      "Done config file\n"
     ]
    }
   ],
   "source": [
    "@contextmanager \n",
    "def s3_fileobj(bucket, key): \n",
    "    \"\"\"\n",
    "    Yields a file object from the filename at {bucket}/{key}\n",
    "\n",
    "    Args:\n",
    "        bucket (str): Name of the S3 bucket where you model is stored\n",
    "        key (str): Relative path from the base of your bucket, including the filename and extension of the object to be retrieved.\n",
    "    \"\"\"\n",
    "    s3 = boto3.client(\"s3\") \n",
    "    obj = s3.get_object(Bucket=bucket, Key=key) \n",
    "    yield BytesIO(obj[\"Body\"].read()) \n",
    " \n",
    "def load_model(bucket, path_to_model, model_name='pytorch_model'):\n",
    "    \"\"\"\n",
    "    Load a model at the given S3 path. It is assumed that your model is stored at the key:\n",
    "\n",
    "        '{path_to_model}/{model_name}.bin'\n",
    "\n",
    "    and that a config has also been generated at the same path named:\n",
    "\n",
    "        f'{path_to_model}/config.json'\n",
    "\n",
    "    IF YOU'RE ON WINDOWS OS: make sure the delete parameter in NamedTemporaryFile is set to False\n",
    "\n",
    "    \"\"\"\n",
    "    tempfile = NamedTemporaryFile(delete=False) \n",
    "    with s3_fileobj(bucket, f'{path_to_model}/{model_name}.bin') as f: \n",
    "        tempfile.write(f.read())\n",
    "    print('Done Writing')\n",
    " \n",
    "    with s3_fileobj(bucket, f'{path_to_model}/config.json') as f: \n",
    "        dict_data = json.load(f) \n",
    "        print('Done loading Data Dict')\n",
    "        config = PretrainedConfig.from_dict(dict_data) \n",
    "        print('Done config file')\n",
    " \n",
    "    model = BertForSequenceClassification.from_pretrained(tempfile.name, config=config) \n",
    "    return model \n",
    "    \n",
    "def categorize(text_data):\n",
    "    try:\n",
    "        if len(text_data) > 1800:\n",
    "            text_data = text_data[:1600]\n",
    "        label = pipe(text_data)\n",
    "        if label[0]['score'] < threshold:\n",
    "            label = 'informal'\n",
    "        else:\n",
    "            label = label[0]['label']\n",
    "            label = lab2ind[label]\n",
    "        return label\n",
    "    except RuntimeError:\n",
    "        return 'informal'\n",
    "\n",
    "lab2ind = {\n",
    "            'LABEL_0': 'economy',\n",
    "            'LABEL_1': 'environment',\n",
    "            'LABEL_2': 'foreign policy',\n",
    "            'LABEL_3': 'government',\n",
    "            'LABEL_4': 'infrastructure',\n",
    "            'LABEL_5': 'law',\n",
    "            'LABEL_6': 'welfare'\n",
    "        }\n",
    "\n",
    "threshold = 0.2 # minimum required percentage for model to categorize speech, else labeled informal\n",
    "\n",
    "model = load_model('bert-topic-classifier-june-2022', 'transcript_processing')\n",
    "\n",
    "set_seed(42)\n",
    "\n",
    "tokenizer = AutoTokenizer.from_pretrained('bert-base-cased')\n",
    "\n",
    "pipe = TextClassificationPipeline(model=model, tokenizer=tokenizer, return_all_scores=False)\n"
   ]
  },
  {
   "cell_type": "code",
   "execution_count": 5,
   "metadata": {},
   "outputs": [
    {
     "data": {
      "text/plain": [
       "1109"
      ]
     },
     "execution_count": 5,
     "metadata": {},
     "output_type": "execute_result"
    }
   ],
   "source": [
    "path =(\"./Text//Seattle.csv\")\n",
    "data = pd.read_csv(path,sep=' ',header=None)\n",
    "for i, row in data.iterrows():\n",
    "    if str(row[1]).startswith('Minutes of'):\n",
    "        data.drop(i,axis=0,inplace=True)\n",
    "len(data)"
   ]
  },
  {
   "cell_type": "code",
   "execution_count": 6,
   "metadata": {},
   "outputs": [
    {
     "name": "stderr",
     "output_type": "stream",
     "text": [
      "Token indices sequence length is longer than the specified maximum sequence length for this model (963 > 512). Running this sequence through the model will result in indexing errors\n"
     ]
    },
    {
     "name": "stdout",
     "output_type": "stream",
     "text": [
      "done!\n",
      "                 0                                                  1  \\\n",
      "0     Jul 12, 2022  [<p class=\"navbar-text navbar-right\" id=\"mainM...   \n",
      "1     Jul  5, 2022  [<p class=\"navbar-text navbar-right\" id=\"mainM...   \n",
      "2     Jun 28, 2022  [<p class=\"navbar-text navbar-right\" id=\"mainM...   \n",
      "3     Jun 21, 2022  [<p class=\"navbar-text navbar-right\" id=\"mainM...   \n",
      "4     Jun 14, 2022  [<p class=\"navbar-text navbar-right\" id=\"mainM...   \n",
      "...            ...                                                ...   \n",
      "1104  Jan 29, 2001  [<p class=\"navbar-text navbar-right\" id=\"mainM...   \n",
      "1105  Jan 22, 2001  [<p class=\"navbar-text navbar-right\" id=\"mainM...   \n",
      "1106  Jan 16, 2001  [<p class=\"navbar-text navbar-right\" id=\"mainM...   \n",
      "1107  Jan  8, 2001  [<p class=\"navbar-text navbar-right\" id=\"mainM...   \n",
      "1108  Jan  2, 2001  [<p class=\"navbar-text navbar-right\" id=\"mainM...   \n",
      "\n",
      "         topic  \n",
      "0     informal  \n",
      "1     informal  \n",
      "2     informal  \n",
      "3     informal  \n",
      "4     informal  \n",
      "...        ...  \n",
      "1104  informal  \n",
      "1105  informal  \n",
      "1106  informal  \n",
      "1107  informal  \n",
      "1108  informal  \n",
      "\n",
      "[1109 rows x 3 columns]\n"
     ]
    }
   ],
   "source": [
    "for i, row in data.iterrows():\n",
    "    data.at[i , 'topic'] = categorize(str(row[1]))\n",
    "# pd.DataFrame(data)\n",
    "print('done!')\n",
    "print(data)"
   ]
  },
  {
   "cell_type": "code",
   "execution_count": 118,
   "metadata": {},
   "outputs": [],
   "source": [
    "data.to_csv(path,header=None, index=None, sep=' ')"
   ]
  },
  {
   "cell_type": "markdown",
   "metadata": {},
   "source": [
    "SO output data for speaker stat blocks has been made, time to upload data :)"
   ]
  },
  {
   "cell_type": "code",
   "execution_count": 119,
   "metadata": {},
   "outputs": [],
   "source": [
    "db_host = 'openparl.cia2zobysfwo.us-west-2.rds.amazonaws.com'\n",
    "db_port = 5432\n",
    "db_user = 'rds'\n",
    "db_region = 'us-west-2'\n",
    "db_name = 'openparl'\n",
    "\n",
    "client = boto3.client('rds', db_region)\n",
    "\n",
    "db_token = client.generate_db_auth_token(db_host, db_port, db_user, Region=db_region)\n",
    "\n",
    "connection = psycopg2.connect(database=db_name, host=db_host, user=db_user, password=db_token)\n",
    "\n",
    "cursor = connection.cursor(cursor_factory=RealDictCursor)"
   ]
  },
  {
   "cell_type": "code",
   "execution_count": 120,
   "metadata": {},
   "outputs": [
    {
     "name": "stdout",
     "output_type": "stream",
     "text": [
      "Done 1.9800000000000002 %\n",
      "Done 3.9600000000000004 %\n",
      "Done 5.949999999999999 %\n",
      "Done 7.93 %\n",
      "Done 9.91 %\n",
      "Done 11.89 %\n",
      "Done 13.88 %\n",
      "Done 15.86 %\n",
      "Done 17.84 %\n",
      "Done 19.82 %\n",
      "Done 21.8 %\n",
      "Done 23.79 %\n",
      "Done 25.77 %\n",
      "Done 27.750000000000004 %\n",
      "Done 29.73 %\n",
      "Done 31.71 %\n",
      "Done 33.7 %\n",
      "Done 35.68 %\n",
      "Done 37.66 %\n",
      "Done 39.64 %\n",
      "Done 41.63 %\n",
      "Done 43.61 %\n",
      "Done 45.59 %\n",
      "Done 47.57 %\n",
      "Done 49.55 %\n",
      "Done 51.54 %\n",
      "Done 53.52 %\n",
      "Done 55.50000000000001 %\n",
      "Done 57.48 %\n",
      "Done 59.46 %\n",
      "Done 61.45 %\n",
      "Done 63.43 %\n",
      "Done 65.41 %\n",
      "Done 67.39 %\n",
      "Done 69.38 %\n",
      "Done 71.36 %\n",
      "Done 73.34 %\n",
      "Done 75.32 %\n",
      "Done 77.3 %\n",
      "Done 79.29 %\n",
      "Done 81.27 %\n",
      "Done 83.25 %\n",
      "Done 85.22999999999999 %\n",
      "Done 87.22 %\n",
      "Done 89.2 %\n",
      "Done 91.18 %\n",
      "Done 93.16 %\n",
      "Done 95.14 %\n",
      "Done 97.13000000000001 %\n",
      "Done 99.11 %\n",
      "Done!\n"
     ]
    }
   ],
   "source": [
    "table = 'us_sea_gen_meeting'\n",
    "data.columns = ['meeting_date', 'meeting_minutes','topic']\n",
    "df_dict = data.to_dict('records')\n",
    "try:\n",
    "    make_table = sql.SQL(\"\"\" \n",
    "        CREATE TABLE IF NOT EXISTS {table} (\n",
    "            meeting_date text,\n",
    "            meeting_minutes text,\n",
    "            topic text\n",
    "        );\n",
    "\n",
    "        ALTER TABLE {table} OWNER TO rds_ad;\n",
    "    \"\"\").format(table = sql.Identifier(table))\n",
    "\n",
    "    cursor.execute(make_table)\n",
    "    cursor.connection.commit() \n",
    "except Exception as e:\n",
    "    print(f\"An exception occured while making a table:\\n{e}\")\n",
    "    cursor.connection.rollback()\n",
    "\n",
    "insert_query = sql.SQL(\"\"\" \n",
    "    INSERT INTO {table}\n",
    "    VALUES (%s, %s, %s)\n",
    "    ON CONFLICT DO NOTHING\n",
    "\"\"\").format(table=sql.Identifier(table))\n",
    "\n",
    "counter = 0\n",
    "for item in df_dict:\n",
    "    try:\n",
    "            tup = (\n",
    "                item['meeting_date'],\n",
    "                item['meeting_minutes'],\n",
    "                item['topic']\n",
    "            )\n",
    "            cursor.execute(insert_query, tup)\n",
    "            cursor.connection.commit()\n",
    "            counter += 1\n",
    "            if counter % 100 == 0:\n",
    "                done = round(counter / len(data), 4) * 100\n",
    "                print(f\"Done {done} %\")\n",
    "    except Exception as e:\n",
    "        print(f\"An exception occured while inserting data: \\n{e}\")\n",
    "        cursor.connection.rollback()\n",
    "print('Done!')"
   ]
  }
 ],
 "metadata": {
  "interpreter": {
   "hash": "b1b31ddff88e53d5b2ff74184bcf2728c826028dac4bbde601a94224aadce21b"
  },
  "kernelspec": {
   "display_name": "Python 3.8.10 ('venv': venv)",
   "language": "python",
   "name": "python3"
  },
  "language_info": {
   "codemirror_mode": {
    "name": "ipython",
    "version": 3
   },
   "file_extension": ".py",
   "mimetype": "text/x-python",
   "name": "python",
   "nbconvert_exporter": "python",
   "pygments_lexer": "ipython3",
   "version": "3.8.10"
  },
  "orig_nbformat": 4,
  "vscode": {
   "interpreter": {
    "hash": "c57e8717490fedee334b72eb862444d2dd01f21c0b866f2c7834f479ed3e56cc"
   }
  }
 },
 "nbformat": 4,
 "nbformat_minor": 2
}
