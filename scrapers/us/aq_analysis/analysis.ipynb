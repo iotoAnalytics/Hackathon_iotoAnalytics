{
 "cells": [
  {
   "cell_type": "code",
   "execution_count": 3,
   "metadata": {},
   "outputs": [],
   "source": [
    "import pandas as pd\n",
    "from bs4 import BeautifulSoup\n",
    "from contextlib import contextmanager \n",
    "from io import BytesIO \n",
    "from tempfile import NamedTemporaryFile \n",
    "from transformers import PretrainedConfig, PreTrainedModel \n",
    "from transformers import set_seed\n",
    "from transformers import AdamW, BertForSequenceClassification, BertTokenizer, AutoTokenizer\n",
    "from transformers import TextClassificationPipeline\n",
    "from tqdm import tqdm\n",
    "import json\n",
    "import torch\n",
    "import boto3\n",
    "from psycopg2.extras import RealDictCursor\n",
    "import psycopg2\n",
    "import boto3\n",
    "from psycopg2 import sql\n",
    "from datetime import datetime\n",
    "import json\n",
    "import utils\n",
    "import pandas as pd\n",
    "import pathlib\n",
    "import csv\n",
    "import requests\n",
    "import matplotlib as plt"
   ]
  },
  {
   "cell_type": "code",
   "execution_count": 15,
   "metadata": {},
   "outputs": [],
   "source": [
    "city = \"chi\"\n",
    "url = 'https://api.openaq.org/v1/measurements?city=Seattle-Tacoma-Bellevue&parameter=pm25&limit=500&location=Seattle-Beacon%20Hill&format=csv'\n",
    "df_d = pd.read_csv(url)\n",
    "df_d['local'] = pd.to_datetime(df_d['local']).dt.date\n",
    "df_d.sort_values(['local','value'], ascending=[False,False], inplace=True)\n",
    "df_d.drop_duplicates(subset=['local'], inplace=True)"
   ]
  },
  {
   "cell_type": "code",
   "execution_count": 4,
   "metadata": {},
   "outputs": [],
   "source": [
    "db_host = 'openparl.cia2zobysfwo.us-west-2.rds.amazonaws.com'\n",
    "db_port = 5432\n",
    "db_user = 'rds'\n",
    "db_region = 'us-west-2'\n",
    "db_name = 'openparl'\n",
    "\n",
    "client = boto3.client('rds', db_region)\n",
    "\n",
    "db_token = client.generate_db_auth_token(db_host, db_port, db_user, Region=db_region)\n",
    "\n",
    "connection = psycopg2.connect(database=db_name, host=db_host, user=db_user, password=db_token)\n",
    "\n",
    "cursor = connection.cursor(cursor_factory=RealDictCursor)"
   ]
  },
  {
   "cell_type": "code",
   "execution_count": 11,
   "metadata": {},
   "outputs": [],
   "source": [
    "table_aq = \"us_\" + city + \"_aq_meeting\"\n",
    "table_gen = \"us_\" + city + \"_gen_meeting\"\n",
    "\n",
    "try:\n",
    "    select_table = sql.SQL(\"\"\" \n",
    "        SELECT * FROM public.{table}\n",
    "    \"\"\").format(table = sql.Identifier(table_aq))\n",
    "\n",
    "    cursor.execute(select_table)\n",
    "    result_aq = cursor.fetchall() \n",
    "except Exception as e:\n",
    "    print(f\"An exception occured while fetchng table:\\n{e}\")\n",
    "    cursor.connection.rollback()\n",
    "\n",
    "\n",
    "try:\n",
    "    select_table = sql.SQL(\"\"\" \n",
    "        SELECT * FROM public.{table}\n",
    "    \"\"\").format(table = sql.Identifier(table_gen))\n",
    "\n",
    "    cursor.execute(select_table)\n",
    "    result_gen = cursor.fetchall() \n",
    "except Exception as e:\n",
    "    print(f\"An exception occured while fetchng table:\\n{e}\")\n",
    "    cursor.connection.rollback()"
   ]
  },
  {
   "cell_type": "code",
   "execution_count": 19,
   "metadata": {},
   "outputs": [
    {
     "name": "stdout",
     "output_type": "stream",
     "text": [
      "70\n"
     ]
    },
    {
     "data": {
      "text/plain": [
       "<AxesSubplot:xlabel='local', ylabel='value'>"
      ]
     },
     "execution_count": 19,
     "metadata": {},
     "output_type": "execute_result"
    },
    {
     "data": {
      "image/png": "[encoded data removed]",
      "text/plain": [
       "<Figure size 432x288 with 1 Axes>"
      ]
     },
     "metadata": {
      "needs_background": "light"
     },
     "output_type": "display_data"
    }
   ],
   "source": [
    "df_aq = pd.DataFrame(result_aq)\n",
    "df_gen = pd.DataFrame(result_gen)\n",
    "\n",
    "x_axis = [\"AQ\",\"Environment\",\"Foreign Policy\",\"Government\",\"Infrastructure\",\"Law\",\"Welfare\"]\n",
    "y_axis = [len(df_aq)]\n",
    "env = df_gen.apply(lambda x : True if x['topic'] == \"environment\" else False, axis = 1)\n",
    "  \n",
    "# Count number of True in the series\n",
    "num_rows = len(df_gen[env == True].index)\n",
    "print(num_rows)\n",
    "\n",
    "df_d.plot(x ='local', y='value', kind = 'scatter')"
   ]
  }
 ],
 "metadata": {
  "interpreter": {
   "hash": "b1b31ddff88e53d5b2ff74184bcf2728c826028dac4bbde601a94224aadce21b"
  },
  "kernelspec": {
   "display_name": "Python 3.8.10 ('venv': venv)",
   "language": "python",
   "name": "python3"
  },
  "language_info": {
   "codemirror_mode": {
    "name": "ipython",
    "version": 3
   },
   "file_extension": ".py",
   "mimetype": "text/x-python",
   "name": "python",
   "nbconvert_exporter": "python",
   "pygments_lexer": "ipython3",
   "version": "3.8.10"
  },
  "orig_nbformat": 4
 },
 "nbformat": 4,
 "nbformat_minor": 2
}
