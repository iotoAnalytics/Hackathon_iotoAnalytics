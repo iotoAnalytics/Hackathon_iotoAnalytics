{
 "metadata": {
  "language_info": {
   "codemirror_mode": {
    "name": "ipython",
    "version": 3
   },
   "file_extension": ".py",
   "mimetype": "text/x-python",
   "name": "python",
   "nbconvert_exporter": "python",
   "pygments_lexer": "ipython3",
   "version": "3.9.1"
  },
  "orig_nbformat": 4,
  "kernelspec": {
   "name": "python3",
   "display_name": "Python 3.9.1 64-bit ('.venv': venv)"
  },
  "interpreter": {
   "hash": "d6c2736903861d70319bab9095a1b189c27204a597da25e87958f86fee23a758"
  }
 },
 "nbformat": 4,
 "nbformat_minor": 2,
 "cells": [
  {
   "cell_type": "code",
   "execution_count": 26,
   "metadata": {},
   "outputs": [
    {
     "output_type": "error",
     "ename": "AttributeError",
     "evalue": "type object 'Persistence' has no attribute 'write_stats_data_test'",
     "traceback": [
      "\u001b[1;31m---------------------------------------------------------------------------\u001b[0m",
      "\u001b[1;31mAttributeError\u001b[0m                            Traceback (most recent call last)",
      "\u001b[1;32m~\\AppData\\Local\\Temp/ipykernel_688544/903491843.py\u001b[0m in \u001b[0;36m<module>\u001b[1;34m\u001b[0m\n\u001b[0;32m     32\u001b[0m \u001b[1;33m\u001b[0m\u001b[0m\n\u001b[0;32m     33\u001b[0m \u001b[1;33m\u001b[0m\u001b[0m\n\u001b[1;32m---> 34\u001b[1;33m \u001b[0mPersistence\u001b[0m\u001b[1;33m.\u001b[0m\u001b[0mwrite_stats_data_test\u001b[0m\u001b[1;33m(\u001b[0m\u001b[1;34m'table'\u001b[0m\u001b[1;33m)\u001b[0m\u001b[1;33m\u001b[0m\u001b[1;33m\u001b[0m\u001b[0m\n\u001b[0m",
      "\u001b[1;31mAttributeError\u001b[0m: type object 'Persistence' has no attribute 'write_stats_data_test'"
     ]
    }
   ],
   "source": [
    "import sys\n",
    "import requests\n",
    "import os\n",
    "from pathlib import Path\n",
    "import boto3\n",
    "from random import randint\n",
    "from database import Persistence\n",
    "\n",
    "base_api = 'https://api.goverlytics.com/v1'\n",
    "headers = {'x-api-key':'d41d8cd98f00b204e9800998ecf8427e'}\n",
    "\n",
    "# Not sure how I should query the data atm, but I'll stick with the API for now\n",
    "# refer to graphs workspace iypnb for helper functions/code\n",
    "def grab_data(state, dataset, country, limit):\n",
    "    if state:\n",
    "        query_string = f'{base_api}/{dataset}/{country}/{state}?limit={str(limit)}'\n",
    "    else:\n",
    "        query_string = f'{base_api}/{dataset}/{country}?limit={str(limit)}'\n",
    "    return requests.get(query_string, headers=headers).json()['data']\n",
    "\n",
    "def grab_bills_sponsored(legislation_lod, legislator):\n",
    "    num_sponsored = 0\n",
    "    percentage = 0\n",
    "    for legislation in legislation_lod:\n",
    "        if legislation['principal_sponsor']==legislator or legislator in legislation['sponsors'] or legislator in legislation['cosponsors']:\n",
    "            num_sponsored += 1\n",
    "    percentage = round(num_sponsored / len(legislation_lod) * 100, 2)\n",
    "    return {\n",
    "        'bills_sponsored_num': num_sponsored,\n",
    "        'bills_sponsored_percentage': percentage\n",
    "    }\n",
    "\n",
    "\n",
    "Persistence.write_stats_data_test('table')"
   ]
  },
  {
   "cell_type": "code",
   "execution_count": 3,
   "metadata": {},
   "outputs": [],
   "source": [
    "state_lst = [x.lower() for x in os.listdir(\"./scrapers/us/us-states\") if len(x) == 2]"
   ]
  },
  {
   "cell_type": "code",
   "execution_count": 17,
   "metadata": {},
   "outputs": [
    {
     "output_type": "stream",
     "name": "stdout",
     "text": [
      "grabbing data for ia\n",
      "Average bills sponsored per legislator in IA: 7.873333333333333\n",
      "As a percentage: 0.4980000000000001\n"
     ]
    }
   ],
   "source": [
    "rand_state = state_lst[randint(0, len(state_lst)-1)]\n",
    "print(f'grabbing data for {rand_state}')\n",
    "legislation_requests = grab_data(rand_state, 'division-legislation', 'us', 2000)\n",
    "legislator_requests = grab_data(rand_state, 'division-legislators', 'us', 1000)\n",
    "\n",
    "# gets average bills sponsored for legislator in state\n",
    "data = [grab_bills_sponsored(legislation_requests, x['name_last']) for x in legislator_requests]\n",
    "ave_percentage_data = sum([x['bills_sponsored_percentage'] for x in data])/len(data)\n",
    "ave_num_data = sum([x['bills_sponsored_num'] for x in data])/len(data)\n",
    "print(f'Average bills sponsored per legislator in {rand_state.upper()}: {ave_num_data}')\n",
    "print(f'As a percentage: {ave_percentage_data}')"
   ]
  },
  {
   "cell_type": "code",
   "execution_count": 18,
   "metadata": {},
   "outputs": [
    {
     "output_type": "execute_result",
     "data": {
      "text/plain": [
       "5.34"
      ]
     },
     "metadata": {},
     "execution_count": 18
    }
   ],
   "source": [
    "random_data = []\n",
    "for i in range(0, randint(10, 15)):\n",
    "    random_data.append({\n",
    "        \n",
    "    })"
   ]
  }
 ]
}