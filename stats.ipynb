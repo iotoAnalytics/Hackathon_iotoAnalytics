{
 "metadata": {
  "language_info": {
   "codemirror_mode": {
    "name": "ipython",
    "version": 3
   },
   "file_extension": ".py",
   "mimetype": "text/x-python",
   "name": "python",
   "nbconvert_exporter": "python",
   "pygments_lexer": "ipython3",
   "version": "3.9.1"
  },
  "orig_nbformat": 4,
  "kernelspec": {
   "name": "python3",
   "display_name": "Python 3.9.1 64-bit ('.venv': venv)"
  },
  "interpreter": {
   "hash": "d6c2736903861d70319bab9095a1b189c27204a597da25e87958f86fee23a758"
  }
 },
 "nbformat": 4,
 "nbformat_minor": 2,
 "cells": [
  {
   "cell_type": "code",
   "execution_count": 41,
   "metadata": {},
   "outputs": [],
   "source": [
    "import sys\n",
    "import requests\n",
    "import os\n",
    "from pathlib import Path\n",
    "from random import randint, random\n",
    "from database import Persistence\n",
    "from datetime import datetime\n",
    "import pandas as pd\n",
    "base_api = 'https://api.goverlytics.com/v1'\n",
    "headers = {'x-api-key':'d41d8cd98f00b204e9800998ecf8427e'}"
   ]
  },
  {
   "cell_type": "code",
   "execution_count": 75,
   "metadata": {},
   "outputs": [],
   "source": [
    "# requests.get(f'{base_api}/division-legislators/ca/{state_lst[randint(0, len(state_lst) - 1)]}', headers=headers).json()\n",
    "def legislator_json(state):\n",
    "    data = requests.get(f'{base_api}/division-legislators/ca/{state}', headers=headers).json()\n",
    "    if data['pagination']['next_url']:\n",
    "        next_state = data['pagination']['next_url'].split('/')[-1]\n",
    "        return data['data'] + legislator_dataframe(next_state)\n",
    "        # return next_state\n",
    "    return data['data']\n",
    "\n",
    "def find_null_columns(state):\n",
    "    data = legislator_json(state)\n",
    "    df = pd.DataFrame(data)\n",
    "    null_cols = df.columns[df.isna().any()].to_list()\n",
    "    return {\n",
    "        'province': state, \n",
    "        'null_columns': null_cols\n",
    "    }\n",
    "\n",
    "# legislator_data = legislator_dataframe('ab')\n",
    "# print('done!')"
   ]
  },
  {
   "cell_type": "code",
   "execution_count": 55,
   "metadata": {},
   "outputs": [
    {
     "output_type": "stream",
     "name": "stdout",
     "text": [
      "done!\n"
     ]
    }
   ],
   "source": [
    "# x = [i for i in range(0,3)]\n",
    "# x[randint(0, len(x) - 1)]\n",
    "# state_lst\n",
    "state_lst = [x.lower() for x in os.listdir(\"./scrapers/ca/ca-provinces\") if len(x) == 2]\n",
    "prov_null_data = [find_null_columns(x) for x in state_lst]\n",
    "print('done!')"
   ]
  },
  {
   "cell_type": "code",
   "execution_count": 66,
   "metadata": {},
   "outputs": [
    {
     "output_type": "execute_result",
     "data": {
      "text/plain": [
       "[{'province': 'ab', 'null_columns': ['birthday', 'occupation', 'education']},\n",
       " {'province': 'bc',\n",
       "  'null_columns': ['birthday',\n",
       "   'occupation',\n",
       "   'education',\n",
       "   'military_experience',\n",
       "   'region']},\n",
       " {'province': 'mb',\n",
       "  'null_columns': ['most_recent_term_id',\n",
       "   'years_active',\n",
       "   'birthday',\n",
       "   'occupation',\n",
       "   'education']},\n",
       " {'province': 'nb', 'null_columns': ['party_id', 'birthday']},\n",
       " {'province': 'nl', 'null_columns': ['birthday']},\n",
       " {'province': 'ns', 'null_columns': ['birthday']},\n",
       " {'province': 'nt', 'null_columns': ['birthday', 'occupation', 'education']},\n",
       " {'province': 'nu', 'null_columns': ['birthday']},\n",
       " {'province': 'on', 'null_columns': ['birthday']},\n",
       " {'province': 'pe', 'null_columns': ['birthday']},\n",
       " {'province': 'qc',\n",
       "  'null_columns': ['most_recent_term_id',\n",
       "   'years_active',\n",
       "   'birthday',\n",
       "   'occupation',\n",
       "   'education']},\n",
       " {'province': 'sk', 'null_columns': ['birthday']},\n",
       " {'province': 'yt', 'null_columns': ['birthday']}]"
      ]
     },
     "metadata": {},
     "execution_count": 66
    }
   ],
   "source": [
    "prov_null_data"
   ]
  },
  {
   "cell_type": "code",
   "execution_count": 52,
   "metadata": {},
   "outputs": [
    {
     "output_type": "execute_result",
     "data": {
      "text/plain": [
       "['birthday', 'occupation', 'education']"
      ]
     },
     "metadata": {},
     "execution_count": 52
    }
   ],
   "source": [
    "df = pd.DataFrame(legislator_data)\n",
    "df.columns[df.isna().any()].to_list()"
   ]
  },
  {
   "cell_type": "code",
   "execution_count": 77,
   "metadata": {},
   "outputs": [
    {
     "output_type": "execute_result",
     "data": {
      "text/plain": [
       "['1', '2']"
      ]
     },
     "metadata": {},
     "execution_count": 77
    }
   ],
   "source": [
    "test = [{'1': [], '2':{}} for i in range(0,randint(3,10))]\n",
    "test_df = pd.DataFrame(test)\n",
    "test_df.columns.to_list()"
   ]
  },
  {
   "cell_type": "code",
   "execution_count": 78,
   "metadata": {},
   "outputs": [],
   "source": [
    "ab_data = legislator_json('ab')\n",
    "ab_df = pd.DataFrame(ab_data)\n",
    "# cols = ab_data.columns.to_list()\n",
    "# for x in cols:\n",
    "#     d.x = d.x.apply(lambda y: None if len(y)==0 else y)"
   ]
  },
  {
   "cell_type": "code",
   "execution_count": 93,
   "metadata": {},
   "outputs": [
    {
     "output_type": "execute_result",
     "data": {
      "text/plain": [
       "0     [{'field': '', 'level': '', 'school': '\n",
       "Queen'...\n",
       "1                                                  None\n",
       "2                                                  None\n",
       "3     [{'field': '', 'level': '', 'school': 'Univers...\n",
       "4                                                  None\n",
       "                            ...                        \n",
       "82    [{'field': '', 'level': '', 'school': 'Royal R...\n",
       "83                                                 None\n",
       "84                                                 None\n",
       "85                                                 None\n",
       "86                                                 None\n",
       "Name: education, Length: 87, dtype: object"
      ]
     },
     "metadata": {},
     "execution_count": 93
    }
   ],
   "source": [
    "cols = ab_df.columns.to_list()\n",
    "ab_df[cols[randint(0, len(cols) - 1)]].apply(lambda y: None if y==[] else y)"
   ]
  }
 ]
}