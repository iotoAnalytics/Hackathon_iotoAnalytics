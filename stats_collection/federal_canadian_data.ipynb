{
 "metadata": {
  "language_info": {
   "codemirror_mode": {
    "name": "ipython",
    "version": 3
   },
   "file_extension": ".py",
   "mimetype": "text/x-python",
   "name": "python",
   "nbconvert_exporter": "python",
   "pygments_lexer": "ipython3",
   "version": "3.9.1"
  },
  "orig_nbformat": 4,
  "kernelspec": {
   "name": "python3",
   "display_name": "Python 3.9.1 64-bit ('.venv': venv)"
  },
  "interpreter": {
   "hash": "d6c2736903861d70319bab9095a1b189c27204a597da25e87958f86fee23a758"
  }
 },
 "nbformat": 4,
 "nbformat_minor": 2,
 "cells": [
  {
   "cell_type": "code",
   "execution_count": 3,
   "metadata": {},
   "outputs": [],
   "source": [
    "import sys\n",
    "import requests\n",
    "import os\n",
    "from pathlib import Path\n",
    "from random import randint, random\n",
    "from database import Persistence, CursorFromConnectionFromPool\n",
    "from datetime import datetime\n",
    "import pandas as pd\n",
    "from psycopg2 import sql\n",
    "\n",
    "with CursorFromConnectionFromPool() as cur:\n",
    "    try:\n",
    "        legislator_data = pd.read_sql(\"SELECT * FROM ca_fed_legislators\", cur.connection)\n",
    "        legislation_data = pd.read_sql(\"SELECT * FROM ca_fed_legislation WHERE pm_party='Liberal'\", cur.connection)\n",
    "        cur.connection.commit()\n",
    "    except Exception as e:\n",
    "        print(f'An exception occured executing a query: \\n{e}')\n"
   ]
  },
  {
   "cell_type": "code",
   "execution_count": 5,
   "metadata": {},
   "outputs": [],
   "source": [
    "legislator_dict = legislator_data.to_dict('records')\n",
    "legislation_dict = legislation_data.to_dict('records')\n"
   ]
  },
  {
   "cell_type": "code",
   "execution_count": 4,
   "metadata": {},
   "outputs": [
    {
     "output_type": "execute_result",
     "data": {
      "text/plain": [
       "{'Conservative': 139,\n",
       " 'Liberal': 154,\n",
       " 'Independent Senators Group': 42,\n",
       " 'New Democratic': 24,\n",
       " 'Green': 3,\n",
       " 'Bloc Québécois': 32,\n",
       " 'Canadian Senators Group': 12,\n",
       " 'Progressive Senate Group': 12,\n",
       " 'Non-affiliated': 5,\n",
       " 'Independent': 5}"
      ]
     },
     "metadata": {},
     "execution_count": 4
    }
   ],
   "source": [
    "count_party = {}\n",
    "for item in legislator_dict:\n",
    "    if item['party'] in count_party:\n",
    "        count_party[item['party']] += 1\n",
    "    else:\n",
    "        count_party[item['party']] = 1\n",
    "count_party"
   ]
  },
  {
   "cell_type": "code",
   "execution_count": 12,
   "metadata": {},
   "outputs": [
    {
     "output_type": "execute_result",
     "data": {
      "text/plain": [
       "{'Liberal': 40}"
      ]
     },
     "metadata": {},
     "execution_count": 12
    }
   ],
   "source": [
    "# legislation_data.columns\n",
    "count_bill_parties = {}\n",
    "for item in legislation_dict:\n",
    "    if item['pm_party'] in count_bill_parties:\n",
    "        count_bill_parties[item['pm_party']] += 1\n",
    "    else:\n",
    "        count_bill_parties[item['pm_party']] = 1\n",
    "count_bill_parties"
   ]
  },
  {
   "cell_type": "code",
   "execution_count": 6,
   "metadata": {},
   "outputs": [
    {
     "output_type": "execute_result",
     "data": {
      "text/plain": [
       "{'no_topic': 7,\n",
       " 'law and crime': 8,\n",
       " 'health': 6,\n",
       " 'civil rights': 2,\n",
       " 'labor': 3,\n",
       " 'technology': 1,\n",
       " 'environment': 3,\n",
       " 'government operations': 2,\n",
       " 'macroeconomics': 6,\n",
       " 'foreign trade': 1,\n",
       " 'education': 1}"
      ]
     },
     "metadata": {},
     "execution_count": 6
    }
   ],
   "source": [
    "count_bill_topics = {}\n",
    "for item in legislation_dict:\n",
    "    if not item['topic']:\n",
    "        if 'no_topic' in count_bill_topics:\n",
    "            count_bill_topics['no_topic'] += 1\n",
    "        else:\n",
    "            count_bill_topics['no_topic'] = 1\n",
    "    elif item['topic'] in count_bill_topics:\n",
    "        count_bill_topics[item['topic']] += 1\n",
    "    else:\n",
    "        count_bill_topics[item['topic']] = 1\n",
    "count_bill_topics"
   ]
  },
  {
   "cell_type": "code",
   "execution_count": 30,
   "metadata": {},
   "outputs": [
    {
     "output_type": "error",
     "ename": "ValueError",
     "evalue": "Mime type rendering requires nbformat>=4.2.0 but it is not installed",
     "traceback": [
      "\u001b[1;31m---------------------------------------------------------------------------\u001b[0m",
      "\u001b[1;31mValueError\u001b[0m                                Traceback (most recent call last)",
      "\u001b[1;32m~\\AppData\\Local\\Temp/ipykernel_16872/3447427617.py\u001b[0m in \u001b[0;36m<module>\u001b[1;34m\u001b[0m\n\u001b[0;32m      6\u001b[0m \u001b[0mdf\u001b[0m\u001b[1;33m.\u001b[0m\u001b[0mloc\u001b[0m\u001b[1;33m[\u001b[0m\u001b[0mdf\u001b[0m\u001b[1;33m[\u001b[0m\u001b[1;34m'pop'\u001b[0m\u001b[1;33m]\u001b[0m \u001b[1;33m<\u001b[0m \u001b[1;36m2.e6\u001b[0m\u001b[1;33m,\u001b[0m \u001b[1;34m'country'\u001b[0m\u001b[1;33m]\u001b[0m \u001b[1;33m=\u001b[0m \u001b[1;34m'Other countries'\u001b[0m \u001b[1;31m# Represent only large countries\u001b[0m\u001b[1;33m\u001b[0m\u001b[1;33m\u001b[0m\u001b[0m\n\u001b[0;32m      7\u001b[0m \u001b[0mfig\u001b[0m \u001b[1;33m=\u001b[0m \u001b[0mpx\u001b[0m\u001b[1;33m.\u001b[0m\u001b[0mpie\u001b[0m\u001b[1;33m(\u001b[0m\u001b[0mdf\u001b[0m\u001b[1;33m,\u001b[0m \u001b[0mvalues\u001b[0m\u001b[1;33m=\u001b[0m\u001b[1;34m'pop'\u001b[0m\u001b[1;33m,\u001b[0m \u001b[0mnames\u001b[0m\u001b[1;33m=\u001b[0m\u001b[1;34m'country'\u001b[0m\u001b[1;33m,\u001b[0m \u001b[0mtitle\u001b[0m\u001b[1;33m=\u001b[0m\u001b[1;34m'Population of European continent'\u001b[0m\u001b[1;33m)\u001b[0m\u001b[1;33m\u001b[0m\u001b[1;33m\u001b[0m\u001b[0m\n\u001b[1;32m----> 8\u001b[1;33m \u001b[0mfig\u001b[0m\u001b[1;33m.\u001b[0m\u001b[0mshow\u001b[0m\u001b[1;33m(\u001b[0m\u001b[1;33m)\u001b[0m\u001b[1;33m\u001b[0m\u001b[1;33m\u001b[0m\u001b[0m\n\u001b[0m",
      "\u001b[1;32mc:\\Users\\samue\\PycharmProjects\\goverlytics-scrapers\\.venv\\lib\\site-packages\\plotly\\basedatatypes.py\u001b[0m in \u001b[0;36mshow\u001b[1;34m(self, *args, **kwargs)\u001b[0m\n\u001b[0;32m   3396\u001b[0m         \u001b[1;32mimport\u001b[0m \u001b[0mplotly\u001b[0m\u001b[1;33m.\u001b[0m\u001b[0mio\u001b[0m \u001b[1;32mas\u001b[0m \u001b[0mpio\u001b[0m\u001b[1;33m\u001b[0m\u001b[1;33m\u001b[0m\u001b[0m\n\u001b[0;32m   3397\u001b[0m \u001b[1;33m\u001b[0m\u001b[0m\n\u001b[1;32m-> 3398\u001b[1;33m         \u001b[1;32mreturn\u001b[0m \u001b[0mpio\u001b[0m\u001b[1;33m.\u001b[0m\u001b[0mshow\u001b[0m\u001b[1;33m(\u001b[0m\u001b[0mself\u001b[0m\u001b[1;33m,\u001b[0m \u001b[1;33m*\u001b[0m\u001b[0margs\u001b[0m\u001b[1;33m,\u001b[0m \u001b[1;33m**\u001b[0m\u001b[0mkwargs\u001b[0m\u001b[1;33m)\u001b[0m\u001b[1;33m\u001b[0m\u001b[1;33m\u001b[0m\u001b[0m\n\u001b[0m\u001b[0;32m   3399\u001b[0m \u001b[1;33m\u001b[0m\u001b[0m\n\u001b[0;32m   3400\u001b[0m     \u001b[1;32mdef\u001b[0m \u001b[0mto_json\u001b[0m\u001b[1;33m(\u001b[0m\u001b[0mself\u001b[0m\u001b[1;33m,\u001b[0m \u001b[1;33m*\u001b[0m\u001b[0margs\u001b[0m\u001b[1;33m,\u001b[0m \u001b[1;33m**\u001b[0m\u001b[0mkwargs\u001b[0m\u001b[1;33m)\u001b[0m\u001b[1;33m:\u001b[0m\u001b[1;33m\u001b[0m\u001b[1;33m\u001b[0m\u001b[0m\n",
      "\u001b[1;32mc:\\Users\\samue\\PycharmProjects\\goverlytics-scrapers\\.venv\\lib\\site-packages\\plotly\\io\\_renderers.py\u001b[0m in \u001b[0;36mshow\u001b[1;34m(fig, renderer, validate, **kwargs)\u001b[0m\n\u001b[0;32m    395\u001b[0m \u001b[1;33m\u001b[0m\u001b[0m\n\u001b[0;32m    396\u001b[0m         \u001b[1;32mif\u001b[0m \u001b[1;32mnot\u001b[0m \u001b[0mnbformat\u001b[0m \u001b[1;32mor\u001b[0m \u001b[0mLooseVersion\u001b[0m\u001b[1;33m(\u001b[0m\u001b[0mnbformat\u001b[0m\u001b[1;33m.\u001b[0m\u001b[0m__version__\u001b[0m\u001b[1;33m)\u001b[0m \u001b[1;33m<\u001b[0m \u001b[0mLooseVersion\u001b[0m\u001b[1;33m(\u001b[0m\u001b[1;34m\"4.2.0\"\u001b[0m\u001b[1;33m)\u001b[0m\u001b[1;33m:\u001b[0m\u001b[1;33m\u001b[0m\u001b[1;33m\u001b[0m\u001b[0m\n\u001b[1;32m--> 397\u001b[1;33m             raise ValueError(\n\u001b[0m\u001b[0;32m    398\u001b[0m                 \u001b[1;34m\"Mime type rendering requires nbformat>=4.2.0 but it is not installed\"\u001b[0m\u001b[1;33m\u001b[0m\u001b[1;33m\u001b[0m\u001b[0m\n\u001b[0;32m    399\u001b[0m             )\n",
      "\u001b[1;31mValueError\u001b[0m: Mime type rendering requires nbformat>=4.2.0 but it is not installed"
     ]
    }
   ],
   "source": [
    "# !pip install plotly\n",
    "import plotly.express as px\n",
    "\n",
    "# pd.DataFrame(count_bill_topics, index=[0])\n",
    "df = px.data.gapminder().query(\"year == 2007\").query(\"continent == 'Europe'\")\n",
    "df.loc[df['pop'] < 2.e6, 'country'] = 'Other countries' # Represent only large countries\n",
    "fig = px.pie(df, values='pop', names='country', title='Population of European continent')\n",
    "fig.show()"
   ]
  },
  {
   "cell_type": "code",
   "execution_count": 29,
   "metadata": {},
   "outputs": [
    {
     "output_type": "stream",
     "name": "stdout",
     "text": [
      "argon2-cffi==20.1.0\n",
      "async-generator==1.10\n",
      "attrs==21.2.0\n",
      "backcall==0.2.0\n",
      "beautifulsoup4==4.9.3\n",
      "bleach==3.3.1\n",
      "boto3==1.16.57\n",
      "botocore==1.19.63\n",
      "bs4==0.0.1\n",
      "certifi==2020.12.5\n",
      "cffi==1.14.5\n",
      "chardet==4.0.0\n",
      "click==8.0.0\n",
      "colorama==0.4.4\n",
      "cryptography==3.4.7\n",
      "datefinder==0.7.1\n",
      "debugpy==1.3.0\n",
      "decorator==5.0.9\n",
      "defusedxml==0.7.1\n",
      "entrypoints==0.3\n",
      "filelock==3.0.12\n",
      "geotext==0.4.0\n",
      "idna==2.10\n",
      "ipykernel==6.0.1\n",
      "ipython==7.25.0\n",
      "ipython-genutils==0.2.0\n",
      "jedi==0.18.0\n",
      "Jinja2==3.0.1\n",
      "jmespath==0.10.0\n",
      "joblib==1.0.0\n",
      "jsonschema==3.2.0\n",
      "jupyter-client==6.1.12\n",
      "jupyter-core==4.7.1\n",
      "jupyterlab-pygments==0.1.2\n",
      "langdetect==1.0.9\n",
      "lxml==4.6.2\n",
      "MarkupSafe==2.0.1\n",
      "matplotlib-inline==0.1.2\n",
      "mistune==0.8.4\n",
      "nameparser==1.0.6\n",
      "nbclient==0.5.3\n",
      "nbconvert==6.1.0\n",
      "nbformat==5.1.3\n",
      "nest-asyncio==1.5.1\n",
      "nltk==3.6.2\n",
      "notebook==6.4.0\n",
      "numpy==1.20.0\n",
      "packaging==20.9\n",
      "pandas==1.2.0\n",
      "pandocfilters==1.4.3\n",
      "parso==0.8.2\n",
      "pdfminer.six==20201018\n",
      "pdfplumber==0.5.27\n",
      "pdfx==1.4.1\n",
      "pickleshare==0.7.5\n",
      "Pillow==8.1.2\n",
      "plotly==5.1.0\n",
      "prometheus-client==0.11.0\n",
      "prompt-toolkit==3.0.19\n",
      "psycopg2==2.8.6\n",
      "pycparser==2.20\n",
      "pycryptodome==3.10.1\n",
      "Pygments==2.9.0\n",
      "pyparsing==2.4.7\n",
      "PyPDF2==1.26.0\n",
      "pyrsistent==0.18.0\n",
      "python-dateutil==2.8.1\n",
      "pytz==2021.1\n",
      "pywin32==301\n",
      "pywinpty==1.1.3\n",
      "pyzmq==22.1.0\n",
      "regex==2020.11.13\n",
      "requests==2.25.1\n",
      "s3transfer==0.3.7\n",
      "sacremoses==0.0.45\n",
      "scikit-learn==0.24.1\n",
      "scipy==1.6.3\n",
      "selenium==3.141.0\n",
      "Send2Trash==1.7.1\n",
      "six==1.15.0\n",
      "sklearn==0.0\n",
      "sortedcontainers==2.3.0\n",
      "soupsieve==2.1\n",
      "tenacity==8.0.1\n",
      "terminado==0.10.1\n",
      "testpath==0.5.0\n",
      "threadpoolctl==2.1.0\n",
      "tika==1.24\n",
      "tokenizers==0.10.2\n",
      "torch==1.8.1\n",
      "tornado==6.1\n",
      "tqdm==4.59.0\n",
      "traitlets==5.0.5\n",
      "transformers==4.5.1\n",
      "typing-extensions==3.7.4.3\n",
      "Unidecode==1.2.0\n",
      "urllib3==1.26.4\n",
      "utils==1.0.1\n",
      "Wand==0.6.6\n",
      "wcwidth==0.2.5\n",
      "webencodings==0.5.1\n"
     ]
    }
   ],
   "source": [
    "!pip freeze"
   ]
  }
 ]
}