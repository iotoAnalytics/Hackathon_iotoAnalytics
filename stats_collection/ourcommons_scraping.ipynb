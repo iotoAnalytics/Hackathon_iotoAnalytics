{
 "cells": [
  {
   "cell_type": "code",
   "execution_count": 1,
   "source": [
    "import sys\r\n",
    "import requests\r\n",
    "import os\r\n",
    "from pathlib import Path\r\n",
    "from random import randint, random\r\n",
    "from database import Persistence, CursorFromConnectionFromPool\r\n",
    "from datetime import datetime\r\n",
    "import pandas as pd\r\n",
    "from psycopg2 import sql\r\n",
    "import json\r\n",
    "import utils\r\n",
    "from bs4 import BeautifulSoup\r\n",
    "from psycopg2.extras import RealDictCursor\r\n",
    "import psycopg2\r\n",
    "\r\n",
    "\r\n",
    "base_link = 'https://www.ourcommons.ca/members/en/'\r\n",
    "\r\n",
    "# with CursorFromConnectionFromPool() as cur:\r\n",
    "#     try:\r\n",
    "#         legislator_data = pd.read_sql(\"SELECT * FROM ca_fed_legislators WHERE party='Liberal'\", cur.connection)\r\n",
    "#         # legislation_data = pd.read_sql(\"SELECT * FROM ca_fed_legislation WHERE pm_party='Liberal'\", cur.connection)\r\n",
    "#         cur.connection.commit()\r\n",
    "#     except Exception as e:\r\n",
    "#         print(f'An exception occured executing a query: \\n{e}')\r\n",
    "\r\n",
    "# params = list(legislator_data['source_id'])\r\n",
    "\r\n",
    "db_host = 'openparl.cia2zobysfwo.us-west-2.rds.amazonaws.com'\r\n",
    "db_port = '5432'\r\n",
    "db_name = 'videoanalysis'\r\n",
    "db_pass = 'Dedenne#3'\r\n",
    "db_user = 's_leung'\r\n",
    "\r\n",
    "with psycopg2.connect(host=db_host, password=db_pass, user=db_user, database=db_name, port='5432') as conn:\r\n",
    "    with conn.cursor(cursor_factory=RealDictCursor) as cur:\r\n",
    "        try:\r\n",
    "            completed_dataset = pd.read_sql(\"SELECT * FROM completed_dataset\", cur.connection)\r\n",
    "            cur.connection.commit()\r\n",
    "        except Exception as e:\r\n",
    "            print(f'GG NO RE: {e}')"
   ],
   "outputs": [],
   "metadata": {}
  },
  {
   "cell_type": "code",
   "execution_count": 2,
   "source": [
    "# commons_link = 'https://www.ourcommons.ca/publicationsearch/en/?per=88867&pubType=37&View=D'\r\n",
    "\r\n",
    "# # for param in params:\r\n",
    "# #     print(requests.get(f'https://www.ourcommons.ca/publicationsearch/en/?per={param}&pubType=37&View=D'))\r\n",
    "\r\n",
    "# response = requests.get(commons_link)\r\n",
    "# soup = BeautifulSoup(response.content, 'lxml')\r\n",
    "# div_lst = soup.find('div', {'id':'Publications'}).find_all('div', {'class':'Publication PubType37'})\r\n",
    "\r\n",
    "# counter = {}\r\n",
    "\r\n",
    "# for item in div_lst:\r\n",
    "#     topics = [x.text for x in item.find('div', {'class':'pi-indexes'}).find_all('a')]\r\n",
    "#     for topic in topics:\r\n",
    "#         if topic in counter:\r\n",
    "#             counter[topic] += 1\r\n",
    "#         else:\r\n",
    "#             counter[topic] = 1"
   ],
   "outputs": [],
   "metadata": {}
  },
  {
   "cell_type": "code",
   "execution_count": 3,
   "source": [
    "completed_dataset_dict = completed_dataset.to_dict('records')\r\n",
    "len(completed_dataset_dict)"
   ],
   "outputs": [
    {
     "output_type": "execute_result",
     "data": {
      "text/plain": [
       "380804"
      ]
     },
     "metadata": {},
     "execution_count": 3
    }
   ],
   "metadata": {}
  },
  {
   "cell_type": "code",
   "execution_count": 4,
   "source": [
    "# persons = list(pd.DataFrame(completed_dataset_dict)['who_en'])\r\n",
    "# counter = {}\r\n",
    "# for person in persons:\r\n",
    "#     if type(person)==str:\r\n",
    "#         if '(' in person:\r\n",
    "#             try:\r\n",
    "#                 party = person.split('(')[0]\r\n",
    "#                 if party in counter:\r\n",
    "#                     counter[party]+=1\r\n",
    "#                 else:\r\n",
    "#                     counter[party]=1\r\n",
    "#             except IndexError:\r\n",
    "#                 pass \r\n",
    "\r\n",
    "# names = [key.split('.')[1].strip() for key, value in counter.items() if '.' in key]"
   ],
   "outputs": [],
   "metadata": {}
  },
  {
   "cell_type": "code",
   "execution_count": 5,
   "source": [
    "import pickle\r\n",
    "with open(r\"data_map.pkl\", \"rb\") as input_file:\r\n",
    "     data = pickle.load(input_file)\r\n",
    "\r\n",
    "new_map = {}\r\n",
    "\r\n",
    "data_lst = [{key: value} for key, value in data.items()]\r\n",
    "\r\n",
    "for i in range(len(data_lst)):\r\n",
    "    for key, value in data_lst[i].items():\r\n",
    "        id_set = value[1]\r\n",
    "        for source_id in id_set:\r\n",
    "            new_map[source_id] = {\r\n",
    "                'name':value[0],\r\n",
    "                'goverlytics_id':key\r\n",
    "            }"
   ],
   "outputs": [],
   "metadata": {}
  },
  {
   "cell_type": "code",
   "execution_count": 28,
   "source": [
    "legis_topics = {}\r\n",
    "\r\n",
    "for item in completed_dataset_dict:\r\n",
    "    if item['member_id'] in new_map:\r\n",
    "        # print(new_map[item['member_id']])\r\n",
    "        # print(item['cap_topic'])\r\n",
    "        # print('\\n')\r\n",
    "        database_dict = new_map[item['member_id']]\r\n",
    "        if database_dict['goverlytics_id'] in legis_topics:\r\n",
    "            if item['cap_topic'] in legis_topics[database_dict['goverlytics_id']]['topics']:\r\n",
    "                legis_topics[database_dict['goverlytics_id']]['topics'][item['cap_topic']] += 1\r\n",
    "            else:\r\n",
    "                legis_topics[database_dict['goverlytics_id']]['topics'][item['cap_topic']] = 1\r\n",
    "        else:\r\n",
    "            legis_topics[database_dict['goverlytics_id']] = {\r\n",
    "                'name': database_dict['name'],\r\n",
    "                'topics': {\r\n",
    "                    item['cap_topic']: 1\r\n",
    "                }\r\n",
    "            }\r\n",
    "        "
   ],
   "outputs": [],
   "metadata": {}
  },
  {
   "cell_type": "code",
   "execution_count": 30,
   "source": [
    "legis_topics_lst = [{'name': value['name'], 'goverlytics_id': key, 'topics': value['topics']} for key, value in legis_topics.items()]\r\n"
   ],
   "outputs": [],
   "metadata": {}
  },
  {
   "cell_type": "code",
   "execution_count": 42,
   "source": [
    "import utils\r\n",
    "from datetime import date, datetime\r\n",
    "\r\n",
    "table = 'ca_fed_parliament_topics'\r\n",
    "data = legis_topics_lst\r\n",
    "\r\n",
    "def json_serial(obj):\r\n",
    "    \"\"\"\r\n",
    "    Serializes objects so they may be placed into JSON format.\r\n",
    "\r\n",
    "    Author: Jay Taylor\r\n",
    "    Source: https://stackoverflow.com/questions/11875770/how-to-overcome-datetime-datetime-not-json-serializable\r\n",
    "    \"\"\"\r\n",
    "    if isinstance(obj, (datetime, date)):\r\n",
    "        return obj.isoformat()\r\n",
    "    raise TypeError(\"Type %s not serializable\" % type(obj))\r\n",
    "\r\n",
    "\r\n",
    "with CursorFromConnectionFromPool() as cur:\r\n",
    "    try:\r\n",
    "        create_table_query = sql.SQL(\"\"\"\r\n",
    "\r\n",
    "            CREATE TABLE IF NOT EXISTS {table} (\r\n",
    "                name text,\r\n",
    "                goverlytics_id bigint UNIQUE,\r\n",
    "                topics json\r\n",
    "            );\r\n",
    "\r\n",
    "            ALTER TABLE {table} OWNER TO rds_ad;\r\n",
    "        \"\"\").format(table=sql.Identifier(table))\r\n",
    "\r\n",
    "        cur.execute(create_table_query)\r\n",
    "        cur.connection.commit()\r\n",
    "    except Exception as e:\r\n",
    "        print(f'An exception occured executting a query:\\n{e}')\r\n",
    "        cur.connection.rollback()\r\n",
    "\r\n",
    "    insert_legislator_query = sql.SQL(\"\"\"\r\n",
    "            INSERT INTO {table}\r\n",
    "            VALUES (%s, %s, %s)\r\n",
    "            ON CONFLICT (goverlytics_id) DO UPDATE SET\r\n",
    "                name = excluded.name,\r\n",
    "                goverlytics_id = excluded.goverlytics_id,\r\n",
    "                topics = excluded.topics\r\n",
    "            \"\"\").format(table=sql.Identifier(table))\r\n",
    "\r\n",
    "    # This is used to convert dictionaries to rows. Need to test it out!\r\n",
    "    for item in data:\r\n",
    "        # if isinstance(item, dict):\r\n",
    "        #     item = utils.DotDict(item)\r\n",
    "        try:\r\n",
    "            tup = (\r\n",
    "                item['name'],\r\n",
    "                item['goverlytics_id'],\r\n",
    "                json.dumps(item['topics'], default=json_serial)\r\n",
    "            )\r\n",
    "\r\n",
    "            cur.execute(insert_legislator_query, tup)\r\n",
    "        except Exception as e:\r\n",
    "            print(f'Exception occured inserting the following data:\\n{tup}')\r\n",
    "            print(e)\r\n",
    "            cur.connection.rollback()\r\n",
    "\r\n",
    "print('done!')"
   ],
   "outputs": [
    {
     "output_type": "stream",
     "name": "stdout",
     "text": [
      "done!\n"
     ]
    }
   ],
   "metadata": {}
  },
  {
   "cell_type": "code",
   "execution_count": 44,
   "source": [
    "x = 'ak, al, ar, az, co, de, hi, ia, id, il, ks, ky, la, ma, md, mi, nc, nd, ne, nm, nv, oh, ok, pa, ri, sc, sd, tn, ut, va, vt, wi, wv, wy'\r\n",
    "len(x.split(','))"
   ],
   "outputs": [
    {
     "output_type": "execute_result",
     "data": {
      "text/plain": [
       "34"
      ]
     },
     "metadata": {},
     "execution_count": 44
    }
   ],
   "metadata": {}
  }
 ],
 "metadata": {
  "orig_nbformat": 4,
  "language_info": {
   "name": "python",
   "version": "3.9.1",
   "mimetype": "text/x-python",
   "codemirror_mode": {
    "name": "ipython",
    "version": 3
   },
   "pygments_lexer": "ipython3",
   "nbconvert_exporter": "python",
   "file_extension": ".py"
  },
  "kernelspec": {
   "name": "python3",
   "display_name": "Python 3.9.1 64-bit ('.venv': venv)"
  },
  "interpreter": {
   "hash": "d6c2736903861d70319bab9095a1b189c27204a597da25e87958f86fee23a758"
  }
 },
 "nbformat": 4,
 "nbformat_minor": 2
}