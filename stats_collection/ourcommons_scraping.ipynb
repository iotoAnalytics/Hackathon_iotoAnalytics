{
 "cells": [
  {
   "cell_type": "code",
   "execution_count": 1,
   "source": [
    "import sys\r\n",
    "import requests\r\n",
    "import os\r\n",
    "from pathlib import Path\r\n",
    "from random import randint, random\r\n",
    "from database import Persistence, CursorFromConnectionFromPool\r\n",
    "from datetime import datetime\r\n",
    "import pandas as pd\r\n",
    "from psycopg2 import sql\r\n",
    "import json\r\n",
    "import utils\r\n",
    "from bs4 import BeautifulSoup\r\n",
    "from psycopg2.extras import RealDictCursor\r\n",
    "import psycopg2\r\n",
    "\r\n",
    "\r\n",
    "base_link = 'https://www.ourcommons.ca/members/en/'\r\n",
    "\r\n",
    "# with CursorFromConnectionFromPool() as cur:\r\n",
    "#     try:\r\n",
    "#         legislator_data = pd.read_sql(\"SELECT * FROM ca_fed_legislators WHERE party='Liberal'\", cur.connection)\r\n",
    "#         # legislation_data = pd.read_sql(\"SELECT * FROM ca_fed_legislation WHERE pm_party='Liberal'\", cur.connection)\r\n",
    "#         cur.connection.commit()\r\n",
    "#     except Exception as e:\r\n",
    "#         print(f'An exception occured executing a query: \\n{e}')\r\n",
    "\r\n",
    "# params = list(legislator_data['source_id'])\r\n",
    "\r\n",
    "db_host = 'openparl.cia2zobysfwo.us-west-2.rds.amazonaws.com'\r\n",
    "db_port = '5432'\r\n",
    "db_name = 'videoanalysis'\r\n",
    "db_pass = 'Dedenne#3'\r\n",
    "db_user = 's_leung'\r\n",
    "\r\n",
    "with psycopg2.connect(host=db_host, password=db_pass, user=db_user, database=db_name, port='5432') as conn:\r\n",
    "    with conn.cursor(cursor_factory=RealDictCursor) as cur:\r\n",
    "        try:\r\n",
    "            completed_dataset = pd.read_sql(\"SELECT * FROM completed_dataset\", cur.connection)\r\n",
    "            cur.connection.commit()\r\n",
    "        except Exception as e:\r\n",
    "            print(f'GG NO RE: {e}')"
   ],
   "outputs": [],
   "metadata": {}
  },
  {
   "cell_type": "code",
   "execution_count": 33,
   "source": [
    "commons_link = 'https://www.ourcommons.ca/publicationsearch/en/?per=88867&pubType=37&View=D'\r\n",
    "\r\n",
    "# for param in params:\r\n",
    "#     print(requests.get(f'https://www.ourcommons.ca/publicationsearch/en/?per={param}&pubType=37&View=D'))\r\n",
    "\r\n",
    "response = requests.get(commons_link)\r\n",
    "soup = BeautifulSoup(response.content, 'lxml')\r\n",
    "div_lst = soup.find('div', {'id':'Publications'}).find_all('div', {'class':'Publication PubType37'})\r\n"
   ],
   "outputs": [],
   "metadata": {}
  },
  {
   "cell_type": "code",
   "execution_count": 38,
   "source": [
    "counter = {}\r\n",
    "\r\n",
    "for item in div_lst:\r\n",
    "    topics = [x.text for x in item.find('div', {'class':'pi-indexes'}).find_all('a')]\r\n",
    "    for topic in topics:\r\n",
    "        if topic in counter:\r\n",
    "            counter[topic] += 1\r\n",
    "        else:\r\n",
    "            counter[topic] = 1"
   ],
   "outputs": [],
   "metadata": {}
  },
  {
   "cell_type": "code",
   "execution_count": 2,
   "source": [
    "completed_dataset_dict = completed_dataset.to_dict('records')\r\n",
    "len(completed_dataset_dict)"
   ],
   "outputs": [
    {
     "output_type": "execute_result",
     "data": {
      "text/plain": [
       "380804"
      ]
     },
     "metadata": {},
     "execution_count": 2
    }
   ],
   "metadata": {}
  },
  {
   "cell_type": "code",
   "execution_count": 3,
   "source": [
    "persons = list(pd.DataFrame(completed_dataset_dict)['who_en'])\r\n",
    "counter = {}\r\n",
    "for person in persons:\r\n",
    "    if type(person)==str:\r\n",
    "        if '(' in person:\r\n",
    "            try:\r\n",
    "                party = person.split('(')[0]\r\n",
    "                if party in counter:\r\n",
    "                    counter[party]+=1\r\n",
    "                else:\r\n",
    "                    counter[party]=1\r\n",
    "            except IndexError:\r\n",
    "                pass \r\n",
    "\r\n",
    "names = [key.split('.')[1].strip() for key, value in counter.items() if '.' in key]"
   ],
   "outputs": [],
   "metadata": {}
  },
  {
   "cell_type": "code",
   "execution_count": 5,
   "source": [
    "with CursorFromConnectionFromPool() as cur:\r\n",
    "    try:\r\n",
    "        legislator_data = pd.read_sql(\"SELECT * FROM ca_fed_legislators\", cur.connection)\r\n",
    "        # legislation_data = pd.read_sql(\"SELECT * FROM ca_fed_legislation WHERE pm_party='Liberal'\", cur.connection)\r\n",
    "        cur.connection.commit()\r\n",
    "    except Exception as e:\r\n",
    "        print(f'An exception occured executing a query: \\n{e}')\r\n",
    "\r\n",
    "params = list((legislator_data['name_full'], legislator_data['goverlytics_id']))"
   ],
   "outputs": [],
   "metadata": {}
  },
  {
   "cell_type": "code",
   "execution_count": 8,
   "source": [
    "# make a dict\r\n",
    "\r\n",
    "\r\n",
    "# legislators = []\r\n",
    "# lipad_speakers = set(names)\r\n",
    "# fed_legislators_set = set(params)\r\n",
    "# # for item in lipad_speakers:\r\n",
    "# #     if item in fed_legislators_set:\r\n",
    "# #         legislators.append(item)\r\n",
    "# print(lipad_speakers)\r\n",
    "# print(fed_legislators_set)\r\n"
   ],
   "outputs": [],
   "metadata": {}
  }
 ],
 "metadata": {
  "orig_nbformat": 4,
  "language_info": {
   "name": "python",
   "version": "3.9.1",
   "mimetype": "text/x-python",
   "codemirror_mode": {
    "name": "ipython",
    "version": 3
   },
   "pygments_lexer": "ipython3",
   "nbconvert_exporter": "python",
   "file_extension": ".py"
  },
  "kernelspec": {
   "name": "python3",
   "display_name": "Python 3.9.1 64-bit ('.venv': venv)"
  },
  "interpreter": {
   "hash": "d6c2736903861d70319bab9095a1b189c27204a597da25e87958f86fee23a758"
  }
 },
 "nbformat": 4,
 "nbformat_minor": 2
}