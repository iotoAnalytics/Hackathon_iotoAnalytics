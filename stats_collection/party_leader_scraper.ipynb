{
 "metadata": {
  "language_info": {
   "codemirror_mode": {
    "name": "ipython",
    "version": 3
   },
   "file_extension": ".py",
   "mimetype": "text/x-python",
   "name": "python",
   "nbconvert_exporter": "python",
   "pygments_lexer": "ipython3",
   "version": "3.9.1"
  },
  "orig_nbformat": 4,
  "kernelspec": {
   "name": "python3",
   "display_name": "Python 3.9.1 64-bit ('.venv': venv)"
  },
  "interpreter": {
   "hash": "d6c2736903861d70319bab9095a1b189c27204a597da25e87958f86fee23a758"
  }
 },
 "nbformat": 4,
 "nbformat_minor": 2,
 "cells": [
  {
   "cell_type": "code",
   "execution_count": 41,
   "metadata": {},
   "outputs": [],
   "source": [
    "import sys\n",
    "import requests\n",
    "import os\n",
    "from pathlib import Path\n",
    "from random import randint, random\n",
    "from database import Persistence, CursorFromConnectionFromPool\n",
    "from datetime import datetime\n",
    "import pandas as pd\n",
    "from psycopg2 import sql\n",
    "import json\n",
    "import utils\n",
    "\n",
    "base_link = 'https://cpac.ca/'\n",
    "\n",
    "def api_string(key, page, prg_id):\n",
    "    return f'https://cpac.ca/api/1/services/contentModel.json?url=%2Fsite%2Fwebsite%2Fsearch%2Findex.xml&crafterSite=cpacca&key={key}&page={page}&type=all&order=desc&programId={prg_id}&tagId=undefined'"
   ]
  },
  {
   "cell_type": "code",
   "execution_count": 42,
   "metadata": {},
   "outputs": [],
   "source": [
    "def get_api_data(key, page, prg_id):\n",
    "    api = api_string(key, page, prg_id)\n",
    "\n",
    "    search_results = requests.get(api).json()['page']['searchResult']\n",
    "    data = search_results['item']\n",
    "    total_pages = search_results['totalPages']\n",
    "    data_lst = []\n",
    "    for item in data:\n",
    "        try:\n",
    "            date_object = int(item['liveDateTime'].split('-')[0])\n",
    "            if date_object >= 2020:\n",
    "                data_lst.append({\n",
    "                    'title': item['title_en_t'],\n",
    "                    'description': item['description_en_t'],\n",
    "                    'vid_link': base_link + item['url_en_s'],\n",
    "                    'topics': {},\n",
    "                    'top_topics': {},\n",
    "                    'main_topic': '',\n",
    "                    'with_title': {}\n",
    "                })\n",
    "        except Exception as e:\n",
    "            pass\n",
    "    if page < int(total_pages):\n",
    "        return data_lst + get_api_data(key, page + 1, prg_id)\n",
    "    else:\n",
    "        return data_lst\n",
    "\n",
    "con_data = get_api_data('conservative+mp', 1, 6) \n",
    "con_data_2 = get_api_data('conservative+leader+erin', 1, 6)\n",
    "con_data_3 = get_api_data('conservative+leader+erin', 1, 92)\n",
    "\n",
    "lib_data = get_api_data('liberal+mp', 1, 6) \n",
    "lib_data_2 = get_api_data('pm+justin', 1, 6)\n",
    "lib_data_3 = get_api_data('pm+justin', 1, 92)\n",
    "\n",
    "ndp_data = get_api_data('ndp+mp', 1, 6) \n",
    "ndp_data_2 = get_api_data('ndp+leader+jagmeet', 1, 6)\n",
    "ndp_data_3 = get_api_data('ndp+leader+jagmeet', 1, 92)\n"
   ]
  },
  {
   "cell_type": "code",
   "execution_count": 43,
   "metadata": {},
   "outputs": [],
   "source": [
    "data = ndp_data + lib_data + con_data + ndp_data_2 + lib_data_2 + con_data_2 + ndp_data_3 + lib_data_3 + con_data_3"
   ]
  },
  {
   "cell_type": "code",
   "execution_count": 44,
   "metadata": {},
   "outputs": [
    {
     "output_type": "stream",
     "name": "stdout",
     "text": [
      "39 17 31\n84 10 52\n67 20 18\n"
     ]
    }
   ],
   "source": [
    "print(len(ndp_data), len(lib_data), len(con_data))\n",
    "print(len(ndp_data_2), len(lib_data_2), len(con_data_2))\n",
    "print(len(ndp_data_3), len(lib_data_3), len(con_data_3))"
   ]
  },
  {
   "cell_type": "code",
   "execution_count": 46,
   "metadata": {},
   "outputs": [
    {
     "output_type": "stream",
     "name": "stdout",
     "text": [
      "done!\n"
     ]
    }
   ],
   "source": [
    "# table = 'party_leader_video_summaries'\n",
    "# data = ndp_data + lib_data + con_data\n",
    "table = 'party_leader_video_summaries'\n",
    "\n",
    "with CursorFromConnectionFromPool() as cur:\n",
    "    try:\n",
    "        create_table_query = sql.SQL(\"\"\" \n",
    "            CREATE TABLE IF NOT EXISTS {table} (\n",
    "                title text UNIQUE,\n",
    "                vid_link text,\n",
    "                description text,\n",
    "                topics json, \n",
    "                top_topics json,\n",
    "                main_topic text,\n",
    "                with_title json\n",
    "            );\n",
    "\n",
    "            ALTER TABLE {table} OWNER TO rds_ad;\n",
    "        \"\"\").format(table=sql.Identifier(table))\n",
    "        cur.execute(create_table_query)\n",
    "        cur.connection.commit()\n",
    "    except Exception as e:\n",
    "        print(f'An exception occured executting a query:\\n{e}')\n",
    "        cur.connection.rollback()\n",
    "\n",
    "    insert_legislator_query = sql.SQL(\"\"\"\n",
    "        INSERT INTO {table}\n",
    "        VALUES (%s, %s, %s, %s, %s, %s, %s)\n",
    "        ON CONFLICT (title) DO UPDATE SET\n",
    "            vid_link = excluded.vid_link,\n",
    "            description = excluded.description,\n",
    "            topics = excluded.topics,\n",
    "            top_topics = excluded.top_topics,\n",
    "            main_topic = excluded.main_topic,\n",
    "            with_title = excluded.with_title\n",
    "        \"\"\").format(table=sql.Identifier(table))\n",
    "\n",
    "    for item in data:\n",
    "        try:\n",
    "            tup = (\n",
    "                item['title'],\n",
    "                item['vid_link'],\n",
    "                item['description'],\n",
    "                json.dumps(item['topics'], default=utils.json_serial),\n",
    "                json.dumps(item['top_topics'], default=utils.json_serial),\n",
    "                item['main_topic'],\n",
    "                json.dumps(item['with_title'], default=utils.json_serial)\n",
    "            )\n",
    "\n",
    "            cur.execute(insert_legislator_query, tup)\n",
    "        except Exception as e:\n",
    "            print(f'Exception occured inserting the following data:\\n{tup}')\n",
    "            print(e)\n",
    "            cur.connection.rollback()\n",
    "    print('done!')"
   ]
  }
 ]
}